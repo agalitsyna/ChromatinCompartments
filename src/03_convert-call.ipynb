{
 "cells": [
  {
   "cell_type": "markdown",
   "metadata": {},
   "source": [
    "# File formats converter\n",
    ".cooler to .hic\n",
    "\n",
    "Note that currently .hic doesn't include interchromosomal interatcions.\n",
    "\n",
    "TODO: include interchromosomal interactions to  output .hic."
   ]
  },
  {
   "cell_type": "code",
   "execution_count": 1,
   "metadata": {},
   "outputs": [],
   "source": [
    "import os\n",
    "import glob\n",
    "\n",
    "import cooler\n",
    "\n",
    "java_path   = \"java\"\n",
    "juicer_path = \"./juicer_tools.1.8.9_jcuda.0.8.jar\"\n",
    "\n",
    "import basic_utils"
   ]
  },
  {
   "cell_type": "code",
   "execution_count": 5,
   "metadata": {},
   "outputs": [],
   "source": [
    "genome_file = {}\n",
    "genome_file[\"hg19\"] = \"../data/genomes/hg19.reduced.chrom.sizes\"\n",
    "\n",
    "OUT_COOL  = \"../data/cool/\"\n",
    "OUT_HIC  = \"../data/hic/\"\n",
    "OUT_COMP = \"../data/eigenvectors/\"\n",
    "if not os.path.isdir(OUT_HIC):\n",
    "    os.mkdir(OUT_HIC)\n",
    "if not os.path.isdir(OUT_COMP):\n",
    "    os.mkdir(OUT_COMP)\n",
    "    \n",
    "files = sorted(glob.glob( OUT_COOL + \"*.*\" ))"
   ]
  },
  {
   "cell_type": "code",
   "execution_count": 7,
   "metadata": {
    "scrolled": true
   },
   "outputs": [],
   "source": [
    "for file in files:\n",
    "    resolution = int(file.split(\".\")[-2])\n",
    "    if resolution!=100000:\n",
    "        continue\n",
    "    experiment_id = file.split(\"/\")[-1].split(\".\")[0]\n",
    "    cool_file = os.path.join(OUT_COOL, \"{}.{}.cool\".format(experiment_id, resolution))\n",
    "    hic_file  = os.path.join(OUT_HIC,  \"{}.{}.hic\".format(experiment_id, resolution))\n",
    "    \n",
    "    c = cooler.Cooler(cool_file)\n",
    "    genome = genome_file[ c.info[\"genome-assembly\"] ]\n",
    "\n",
    "    resolutions = [resolution, resolution*2, resolution*5, resolution*10, resolution*100, resolution*1000]\n",
    "#     basic_utils.cooler2hic(cool_file, hic_file,\n",
    "#         genome = genome,\n",
    "#         resolutions = resolutions, \n",
    "#         remove_intermediary_files = True,\n",
    "#         juicer_path = juicer_path,\n",
    "#         java_path   = java_path)"
   ]
  },
  {
   "cell_type": "markdown",
   "metadata": {},
   "source": [
    "# Compartments calling\n",
    "With juicer tools, per chromosome calling.\n",
    "\n",
    "TODO: implement calling with cooltools, include interchromosomal interactions."
   ]
  },
  {
   "cell_type": "code",
   "execution_count": 10,
   "metadata": {},
   "outputs": [],
   "source": [
    "chromnames = cooler.Cooler(\"../data/cool/A549_NA_NA.100000.cool\").chromnames"
   ]
  },
  {
   "cell_type": "code",
   "execution_count": 12,
   "metadata": {
    "scrolled": true
   },
   "outputs": [],
   "source": [
    "for file in files:\n",
    "    resolution = int(file.split(\".\")[-2])\n",
    "    if resolution!=100000:\n",
    "        continue\n",
    "    experiment_id = file.split(\"/\")[-1].split('.')[0]\n",
    "    cool_file = os.path.join(OUT_COOL, \"{}.{}.cool\".format(experiment_id, resolution))\n",
    "    hic_file  = os.path.join(OUT_HIC,  \"{}.{}.hic\".format(experiment_id, resolution))\n",
    "    \n",
    "    for ch in chromnames:\n",
    "        \n",
    "        if ch==\"chrM\" or ch==\"chrY\":\n",
    "            continue\n",
    "        comp_file  = os.path.join(OUT_COMP,  \"{}.{}.{}.comp.bed\".format(experiment_id, resolution, ch))\n",
    "        if os.path.isfile(comp_file):\n",
    "            continue        \n",
    "        command = \"{} -Xmx2g -jar {} eigenvector -p KR {} {} BP {} {}\".format(java_path, juicer_path, hic_file, ch, resolution, comp_file+\".txt\")\n",
    "        basic_utils.call_and_check_errors(command)\n",
    "        \n",
    "        command = \"awk -v OFS='\\t' '{{print \\\"{0}\\\", {1}*(NR-1), {1}*NR, $1}}' {3} > {2}\".format(ch, resolution, comp_file, comp_file+'.txt')\n",
    "        basic_utils.call_and_check_errors(command)"
   ]
  },
  {
   "cell_type": "markdown",
   "metadata": {},
   "source": [
    "# Compartments calling of public datasets from AidenLab\n",
    "\n",
    "For full datasets see: https://aidenlab.org/data.html"
   ]
  },
  {
   "cell_type": "code",
   "execution_count": 13,
   "metadata": {},
   "outputs": [],
   "source": [
    "data_dict = {\"K562\": \"https://hicfiles.s3.amazonaws.com/hiseq/k562/in-situ/combined.hic\",\n",
    "            \"HeLa\": \"https://hicfiles.s3.amazonaws.com/hiseq/hela/in-situ/combined.hic\",\n",
    "            \"HMEC\": \"https://hicfiles.s3.amazonaws.com/hiseq/hmec/in-situ/combined.hic\",\n",
    "            \"NHEK\": \"https://hicfiles.s3.amazonaws.com/hiseq/nhek/in-situ/combined.hic\",\n",
    "             \"HUVEC\": \"https://hicfiles.s3.amazonaws.com/hiseq/huvec/in-situ/combined.hic\",\n",
    "             \"IMR90\": \"https://hicfiles.s3.amazonaws.com/hiseq/imr90/in-situ/combined.hic\",\n",
    "             \"GM12878\": \"https://hicfiles.s3.amazonaws.com/hiseq/gm12878/in-situ/combined.hic\"}\n",
    "\n",
    "resolution = 100000\n",
    "\n",
    "for k in data_dict.keys():\n",
    "    \n",
    "    experiment_id = k\n",
    "    hic_file  = data_dict[k]\n",
    "    \n",
    "    for ch in chromnames:\n",
    "        \n",
    "        if ch==\"chrM\" or ch==\"chrY\":\n",
    "            continue\n",
    "        comp_file  = os.path.join(OUT_COMP,  \"{}.{}.{}.comp.bed\".format(experiment_id, resolution, ch))\n",
    "        \n",
    "        command = \"{} -Xmx2g -jar {} eigenvector -p KR {} {} BP {} {}\".format(java_path, juicer_path, hic_file, ch, resolution, comp_file+\".txt\")\n",
    "        basic_utils.call_and_check_errors(command)\n",
    "        \n",
    "        command = \"awk -v OFS='\\t' '{{print \\\"{0}\\\", {1}*(NR-1), {1}*NR, $1}}' {3} > {2}\".format(ch, resolution, comp_file, comp_file+'.txt')\n",
    "        basic_utils.call_and_check_errors(command)"
   ]
  }
 ],
 "metadata": {
  "kernelspec": {
   "display_name": "distiller-editable",
   "language": "python",
   "name": "distiller-editable"
  },
  "language_info": {
   "codemirror_mode": {
    "name": "ipython",
    "version": 3
   },
   "file_extension": ".py",
   "mimetype": "text/x-python",
   "name": "python",
   "nbconvert_exporter": "python",
   "pygments_lexer": "ipython3",
   "version": "3.6.3"
  }
 },
 "nbformat": 4,
 "nbformat_minor": 2
}
